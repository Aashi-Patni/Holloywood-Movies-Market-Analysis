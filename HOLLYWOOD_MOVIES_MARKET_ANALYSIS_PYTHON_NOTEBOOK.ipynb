{
  "nbformat": 4,
  "nbformat_minor": 0,
  "metadata": {
    "colab": {
      "name": "HOLLYWOOD MOVIES MARKET ANALYSIS_PYTHON NOTEBOOK.ipynb",
      "provenance": [],
      "collapsed_sections": []
    },
    "kernelspec": {
      "name": "python3",
      "display_name": "Python 3"
    },
    "language_info": {
      "name": "python"
    }
  },
  "cells": [
    {
      "cell_type": "markdown",
      "source": [
        "### This dataset contains information about the top 1000 highest grossing hollywood films. It is up to date as of 10th January 2022.\n",
        "### With the help of this dataset, we performed a detailed market analysis over various attributes."
      ],
      "metadata": {
        "id": "1mcd4p6el1ta"
      }
    },
    {
      "cell_type": "code",
      "execution_count": null,
      "metadata": {
        "id": "3ebLt7W3IWtN"
      },
      "outputs": [],
      "source": [
        "#IMPORTING LIBRARIES\n",
        "\n",
        "import pandas as pd\n",
        "import numpy as np\n",
        "import seaborn as sns\n",
        "import plotly.express as px\n",
        "import cufflinks as cf\n",
        "from scipy import stats\n",
        "\n",
        "import matplotlib.pyplot as plt"
      ]
    },
    {
      "cell_type": "code",
      "source": [
        "# READING THE DATASET\n",
        "\n",
        "df = pd.read_csv(\"DATA_MINING_PROJECT.csv\")\n",
        "df.head(2)"
      ],
      "metadata": {
        "colab": {
          "base_uri": "https://localhost:8080/",
          "height": 243
        },
        "id": "XJW2gUnNI72l",
        "outputId": "b8fd360d-8205-4a3e-b20e-b5d1718a59d5"
      },
      "execution_count": null,
      "outputs": [
        {
          "output_type": "execute_result",
          "data": {
            "text/plain": [
              "   Unnamed: 0                                              Title  \\\n",
              "0           0  Star Wars: Episode VII - The Force Awakens (2015)   \n",
              "1           1                           Avengers: Endgame (2019)   \n",
              "\n",
              "                           Distributor       Release Date  Domestic Sales  \\\n",
              "0  Walt Disney Studios Motion Pictures  December 16, 2015       936662225   \n",
              "1  Walt Disney Studios Motion Pictures     April 24, 2019       858373000   \n",
              "\n",
              "   International Sales  World Sales  \\\n",
              "0           1132859475   2069521700   \n",
              "1           1939128328   2797501328   \n",
              "\n",
              "                                        Genre Movie Runtime License  \n",
              "0           ['Action', 'Adventure', 'Sci-Fi']   2 hr 18 min   PG-13  \n",
              "1  ['Action', 'Adventure', 'Drama', 'Sci-Fi']    3 hr 1 min   PG-13  "
            ],
            "text/html": [
              "\n",
              "  <div id=\"df-7a2ab753-054d-42df-b37d-d4c268688763\">\n",
              "    <div class=\"colab-df-container\">\n",
              "      <div>\n",
              "<style scoped>\n",
              "    .dataframe tbody tr th:only-of-type {\n",
              "        vertical-align: middle;\n",
              "    }\n",
              "\n",
              "    .dataframe tbody tr th {\n",
              "        vertical-align: top;\n",
              "    }\n",
              "\n",
              "    .dataframe thead th {\n",
              "        text-align: right;\n",
              "    }\n",
              "</style>\n",
              "<table border=\"1\" class=\"dataframe\">\n",
              "  <thead>\n",
              "    <tr style=\"text-align: right;\">\n",
              "      <th></th>\n",
              "      <th>Unnamed: 0</th>\n",
              "      <th>Title</th>\n",
              "      <th>Distributor</th>\n",
              "      <th>Release Date</th>\n",
              "      <th>Domestic Sales</th>\n",
              "      <th>International Sales</th>\n",
              "      <th>World Sales</th>\n",
              "      <th>Genre</th>\n",
              "      <th>Movie Runtime</th>\n",
              "      <th>License</th>\n",
              "    </tr>\n",
              "  </thead>\n",
              "  <tbody>\n",
              "    <tr>\n",
              "      <th>0</th>\n",
              "      <td>0</td>\n",
              "      <td>Star Wars: Episode VII - The Force Awakens (2015)</td>\n",
              "      <td>Walt Disney Studios Motion Pictures</td>\n",
              "      <td>December 16, 2015</td>\n",
              "      <td>936662225</td>\n",
              "      <td>1132859475</td>\n",
              "      <td>2069521700</td>\n",
              "      <td>['Action', 'Adventure', 'Sci-Fi']</td>\n",
              "      <td>2 hr 18 min</td>\n",
              "      <td>PG-13</td>\n",
              "    </tr>\n",
              "    <tr>\n",
              "      <th>1</th>\n",
              "      <td>1</td>\n",
              "      <td>Avengers: Endgame (2019)</td>\n",
              "      <td>Walt Disney Studios Motion Pictures</td>\n",
              "      <td>April 24, 2019</td>\n",
              "      <td>858373000</td>\n",
              "      <td>1939128328</td>\n",
              "      <td>2797501328</td>\n",
              "      <td>['Action', 'Adventure', 'Drama', 'Sci-Fi']</td>\n",
              "      <td>3 hr 1 min</td>\n",
              "      <td>PG-13</td>\n",
              "    </tr>\n",
              "  </tbody>\n",
              "</table>\n",
              "</div>\n",
              "      <button class=\"colab-df-convert\" onclick=\"convertToInteractive('df-7a2ab753-054d-42df-b37d-d4c268688763')\"\n",
              "              title=\"Convert this dataframe to an interactive table.\"\n",
              "              style=\"display:none;\">\n",
              "        \n",
              "  <svg xmlns=\"http://www.w3.org/2000/svg\" height=\"24px\"viewBox=\"0 0 24 24\"\n",
              "       width=\"24px\">\n",
              "    <path d=\"M0 0h24v24H0V0z\" fill=\"none\"/>\n",
              "    <path d=\"M18.56 5.44l.94 2.06.94-2.06 2.06-.94-2.06-.94-.94-2.06-.94 2.06-2.06.94zm-11 1L8.5 8.5l.94-2.06 2.06-.94-2.06-.94L8.5 2.5l-.94 2.06-2.06.94zm10 10l.94 2.06.94-2.06 2.06-.94-2.06-.94-.94-2.06-.94 2.06-2.06.94z\"/><path d=\"M17.41 7.96l-1.37-1.37c-.4-.4-.92-.59-1.43-.59-.52 0-1.04.2-1.43.59L10.3 9.45l-7.72 7.72c-.78.78-.78 2.05 0 2.83L4 21.41c.39.39.9.59 1.41.59.51 0 1.02-.2 1.41-.59l7.78-7.78 2.81-2.81c.8-.78.8-2.07 0-2.86zM5.41 20L4 18.59l7.72-7.72 1.47 1.35L5.41 20z\"/>\n",
              "  </svg>\n",
              "      </button>\n",
              "      \n",
              "  <style>\n",
              "    .colab-df-container {\n",
              "      display:flex;\n",
              "      flex-wrap:wrap;\n",
              "      gap: 12px;\n",
              "    }\n",
              "\n",
              "    .colab-df-convert {\n",
              "      background-color: #E8F0FE;\n",
              "      border: none;\n",
              "      border-radius: 50%;\n",
              "      cursor: pointer;\n",
              "      display: none;\n",
              "      fill: #1967D2;\n",
              "      height: 32px;\n",
              "      padding: 0 0 0 0;\n",
              "      width: 32px;\n",
              "    }\n",
              "\n",
              "    .colab-df-convert:hover {\n",
              "      background-color: #E2EBFA;\n",
              "      box-shadow: 0px 1px 2px rgba(60, 64, 67, 0.3), 0px 1px 3px 1px rgba(60, 64, 67, 0.15);\n",
              "      fill: #174EA6;\n",
              "    }\n",
              "\n",
              "    [theme=dark] .colab-df-convert {\n",
              "      background-color: #3B4455;\n",
              "      fill: #D2E3FC;\n",
              "    }\n",
              "\n",
              "    [theme=dark] .colab-df-convert:hover {\n",
              "      background-color: #434B5C;\n",
              "      box-shadow: 0px 1px 3px 1px rgba(0, 0, 0, 0.15);\n",
              "      filter: drop-shadow(0px 1px 2px rgba(0, 0, 0, 0.3));\n",
              "      fill: #FFFFFF;\n",
              "    }\n",
              "  </style>\n",
              "\n",
              "      <script>\n",
              "        const buttonEl =\n",
              "          document.querySelector('#df-7a2ab753-054d-42df-b37d-d4c268688763 button.colab-df-convert');\n",
              "        buttonEl.style.display =\n",
              "          google.colab.kernel.accessAllowed ? 'block' : 'none';\n",
              "\n",
              "        async function convertToInteractive(key) {\n",
              "          const element = document.querySelector('#df-7a2ab753-054d-42df-b37d-d4c268688763');\n",
              "          const dataTable =\n",
              "            await google.colab.kernel.invokeFunction('convertToInteractive',\n",
              "                                                     [key], {});\n",
              "          if (!dataTable) return;\n",
              "\n",
              "          const docLinkHtml = 'Like what you see? Visit the ' +\n",
              "            '<a target=\"_blank\" href=https://colab.research.google.com/notebooks/data_table.ipynb>data table notebook</a>'\n",
              "            + ' to learn more about interactive tables.';\n",
              "          element.innerHTML = '';\n",
              "          dataTable['output_type'] = 'display_data';\n",
              "          await google.colab.output.renderOutput(dataTable, element);\n",
              "          const docLink = document.createElement('div');\n",
              "          docLink.innerHTML = docLinkHtml;\n",
              "          element.appendChild(docLink);\n",
              "        }\n",
              "      </script>\n",
              "    </div>\n",
              "  </div>\n",
              "  "
            ]
          },
          "metadata": {},
          "execution_count": 2
        }
      ]
    },
    {
      "cell_type": "code",
      "source": [
        "# CALCULATING THE NUMBER OF ROWS AND COLUMNS\n",
        "\n",
        "def rows_and_cols(value):\n",
        "    row = df.shape[0]\n",
        "    col = df.shape[1]\n",
        "    print(f\"The dataset contains {row} rows and {col} columns\")\n",
        "    "
      ],
      "metadata": {
        "id": "nzjJ9gY0gZ16"
      },
      "execution_count": null,
      "outputs": []
    },
    {
      "cell_type": "code",
      "source": [
        "rows_and_cols(df)"
      ],
      "metadata": {
        "colab": {
          "base_uri": "https://localhost:8080/"
        },
        "id": "reoDrOWHg3EK",
        "outputId": "10163f88-29bb-40c4-b421-d3d992375654"
      },
      "execution_count": null,
      "outputs": [
        {
          "output_type": "stream",
          "name": "stdout",
          "text": [
            "The dataset contains 918 rows and 10 columns\n"
          ]
        }
      ]
    },
    {
      "cell_type": "code",
      "source": [
        "# Count missing value\n",
        "\n",
        "def missing_values_table(df):\n",
        "        mis_val = df.isnull().sum()\n",
        "        mis_val_percent = round(100 * df.isnull().sum() / len(df),2)\n",
        "        mz_table = pd.concat([mis_val, mis_val_percent], axis=1)\n",
        "        mz_table = mz_table.rename(\n",
        "        columns = {0 : 'Missing Values', 1 : '% of Total Values'})\n",
        "        \n",
        "        return mz_table\n",
        "\n",
        "missing_values_table(df)"
      ],
      "metadata": {
        "colab": {
          "base_uri": "https://localhost:8080/",
          "height": 363
        },
        "id": "enD8DVqwq1_y",
        "outputId": "00a6bff9-0d94-4071-e288-e41eeda12348"
      },
      "execution_count": null,
      "outputs": [
        {
          "output_type": "execute_result",
          "data": {
            "text/plain": [
              "                     Missing Values  % of Total Values\n",
              "Unnamed: 0                        0               0.00\n",
              "Title                             0               0.00\n",
              "Distributor                       0               0.00\n",
              "Release Date                    118              12.85\n",
              "Domestic Sales                    0               0.00\n",
              "International Sales               0               0.00\n",
              "World Sales                       0               0.00\n",
              "Genre                             0               0.00\n",
              "Movie Runtime                     0               0.00\n",
              "License                         174              18.95"
            ],
            "text/html": [
              "\n",
              "  <div id=\"df-2d7cb3c7-876a-4e77-9ac1-50e378ddfca7\">\n",
              "    <div class=\"colab-df-container\">\n",
              "      <div>\n",
              "<style scoped>\n",
              "    .dataframe tbody tr th:only-of-type {\n",
              "        vertical-align: middle;\n",
              "    }\n",
              "\n",
              "    .dataframe tbody tr th {\n",
              "        vertical-align: top;\n",
              "    }\n",
              "\n",
              "    .dataframe thead th {\n",
              "        text-align: right;\n",
              "    }\n",
              "</style>\n",
              "<table border=\"1\" class=\"dataframe\">\n",
              "  <thead>\n",
              "    <tr style=\"text-align: right;\">\n",
              "      <th></th>\n",
              "      <th>Missing Values</th>\n",
              "      <th>% of Total Values</th>\n",
              "    </tr>\n",
              "  </thead>\n",
              "  <tbody>\n",
              "    <tr>\n",
              "      <th>Unnamed: 0</th>\n",
              "      <td>0</td>\n",
              "      <td>0.00</td>\n",
              "    </tr>\n",
              "    <tr>\n",
              "      <th>Title</th>\n",
              "      <td>0</td>\n",
              "      <td>0.00</td>\n",
              "    </tr>\n",
              "    <tr>\n",
              "      <th>Distributor</th>\n",
              "      <td>0</td>\n",
              "      <td>0.00</td>\n",
              "    </tr>\n",
              "    <tr>\n",
              "      <th>Release Date</th>\n",
              "      <td>118</td>\n",
              "      <td>12.85</td>\n",
              "    </tr>\n",
              "    <tr>\n",
              "      <th>Domestic Sales</th>\n",
              "      <td>0</td>\n",
              "      <td>0.00</td>\n",
              "    </tr>\n",
              "    <tr>\n",
              "      <th>International Sales</th>\n",
              "      <td>0</td>\n",
              "      <td>0.00</td>\n",
              "    </tr>\n",
              "    <tr>\n",
              "      <th>World Sales</th>\n",
              "      <td>0</td>\n",
              "      <td>0.00</td>\n",
              "    </tr>\n",
              "    <tr>\n",
              "      <th>Genre</th>\n",
              "      <td>0</td>\n",
              "      <td>0.00</td>\n",
              "    </tr>\n",
              "    <tr>\n",
              "      <th>Movie Runtime</th>\n",
              "      <td>0</td>\n",
              "      <td>0.00</td>\n",
              "    </tr>\n",
              "    <tr>\n",
              "      <th>License</th>\n",
              "      <td>174</td>\n",
              "      <td>18.95</td>\n",
              "    </tr>\n",
              "  </tbody>\n",
              "</table>\n",
              "</div>\n",
              "      <button class=\"colab-df-convert\" onclick=\"convertToInteractive('df-2d7cb3c7-876a-4e77-9ac1-50e378ddfca7')\"\n",
              "              title=\"Convert this dataframe to an interactive table.\"\n",
              "              style=\"display:none;\">\n",
              "        \n",
              "  <svg xmlns=\"http://www.w3.org/2000/svg\" height=\"24px\"viewBox=\"0 0 24 24\"\n",
              "       width=\"24px\">\n",
              "    <path d=\"M0 0h24v24H0V0z\" fill=\"none\"/>\n",
              "    <path d=\"M18.56 5.44l.94 2.06.94-2.06 2.06-.94-2.06-.94-.94-2.06-.94 2.06-2.06.94zm-11 1L8.5 8.5l.94-2.06 2.06-.94-2.06-.94L8.5 2.5l-.94 2.06-2.06.94zm10 10l.94 2.06.94-2.06 2.06-.94-2.06-.94-.94-2.06-.94 2.06-2.06.94z\"/><path d=\"M17.41 7.96l-1.37-1.37c-.4-.4-.92-.59-1.43-.59-.52 0-1.04.2-1.43.59L10.3 9.45l-7.72 7.72c-.78.78-.78 2.05 0 2.83L4 21.41c.39.39.9.59 1.41.59.51 0 1.02-.2 1.41-.59l7.78-7.78 2.81-2.81c.8-.78.8-2.07 0-2.86zM5.41 20L4 18.59l7.72-7.72 1.47 1.35L5.41 20z\"/>\n",
              "  </svg>\n",
              "      </button>\n",
              "      \n",
              "  <style>\n",
              "    .colab-df-container {\n",
              "      display:flex;\n",
              "      flex-wrap:wrap;\n",
              "      gap: 12px;\n",
              "    }\n",
              "\n",
              "    .colab-df-convert {\n",
              "      background-color: #E8F0FE;\n",
              "      border: none;\n",
              "      border-radius: 50%;\n",
              "      cursor: pointer;\n",
              "      display: none;\n",
              "      fill: #1967D2;\n",
              "      height: 32px;\n",
              "      padding: 0 0 0 0;\n",
              "      width: 32px;\n",
              "    }\n",
              "\n",
              "    .colab-df-convert:hover {\n",
              "      background-color: #E2EBFA;\n",
              "      box-shadow: 0px 1px 2px rgba(60, 64, 67, 0.3), 0px 1px 3px 1px rgba(60, 64, 67, 0.15);\n",
              "      fill: #174EA6;\n",
              "    }\n",
              "\n",
              "    [theme=dark] .colab-df-convert {\n",
              "      background-color: #3B4455;\n",
              "      fill: #D2E3FC;\n",
              "    }\n",
              "\n",
              "    [theme=dark] .colab-df-convert:hover {\n",
              "      background-color: #434B5C;\n",
              "      box-shadow: 0px 1px 3px 1px rgba(0, 0, 0, 0.15);\n",
              "      filter: drop-shadow(0px 1px 2px rgba(0, 0, 0, 0.3));\n",
              "      fill: #FFFFFF;\n",
              "    }\n",
              "  </style>\n",
              "\n",
              "      <script>\n",
              "        const buttonEl =\n",
              "          document.querySelector('#df-2d7cb3c7-876a-4e77-9ac1-50e378ddfca7 button.colab-df-convert');\n",
              "        buttonEl.style.display =\n",
              "          google.colab.kernel.accessAllowed ? 'block' : 'none';\n",
              "\n",
              "        async function convertToInteractive(key) {\n",
              "          const element = document.querySelector('#df-2d7cb3c7-876a-4e77-9ac1-50e378ddfca7');\n",
              "          const dataTable =\n",
              "            await google.colab.kernel.invokeFunction('convertToInteractive',\n",
              "                                                     [key], {});\n",
              "          if (!dataTable) return;\n",
              "\n",
              "          const docLinkHtml = 'Like what you see? Visit the ' +\n",
              "            '<a target=\"_blank\" href=https://colab.research.google.com/notebooks/data_table.ipynb>data table notebook</a>'\n",
              "            + ' to learn more about interactive tables.';\n",
              "          element.innerHTML = '';\n",
              "          dataTable['output_type'] = 'display_data';\n",
              "          await google.colab.output.renderOutput(dataTable, element);\n",
              "          const docLink = document.createElement('div');\n",
              "          docLink.innerHTML = docLinkHtml;\n",
              "          element.appendChild(docLink);\n",
              "        }\n",
              "      </script>\n",
              "    </div>\n",
              "  </div>\n",
              "  "
            ]
          },
          "metadata": {},
          "execution_count": 5
        }
      ]
    },
    {
      "cell_type": "code",
      "source": [
        "# CALCULATING MEASURES OF CENTRAL TENDENCY WITH RESPECT TO DOMESTIC SALES \n",
        "\n",
        "df1 = df.sort_values(by=['Domestic Sales'])"
      ],
      "metadata": {
        "id": "hHHaBzN0hCDN"
      },
      "execution_count": null,
      "outputs": []
    },
    {
      "cell_type": "code",
      "source": [
        "mean_Domestics_Sales = np.mean(df1['Domestic Sales'])\n",
        "median_Domestics_Sales = np.median(df1['Domestic Sales'])\n",
        "\n",
        "print(mean_Domestics_Sales)\n",
        "print(median_Domestics_Sales)"
      ],
      "metadata": {
        "colab": {
          "base_uri": "https://localhost:8080/"
        },
        "id": "G_AGlNWthUZv",
        "outputId": "b78ce3c7-9822-4c6c-de01-75197545779c"
      },
      "execution_count": null,
      "outputs": [
        {
          "output_type": "stream",
          "name": "stdout",
          "text": [
            "167746917.93899783\n",
            "132135096.0\n"
          ]
        }
      ]
    },
    {
      "cell_type": "code",
      "source": [
        "#EXAMINE EACH TITLE TO CHECK WHETHER IT INCLUDES YEAR OF RELEASE OR NOT ( like \"(2019) )\n",
        "\n",
        "import re\n",
        "x = 0  # Count the number of titles that lack words like \"2003\"\n",
        "def rm_year(val):\n",
        "  if re.search('[(0-9)]{6}' ,val):  #regex for words such as \"(2001)\"\n",
        "    pass\n",
        "  else:\n",
        "    global x\n",
        "    x = x+1\n",
        "  \n",
        "  return val\n",
        "\n",
        "  \n",
        "df['Title'].apply(rm_year)\n",
        "print(x)"
      ],
      "metadata": {
        "colab": {
          "base_uri": "https://localhost:8080/"
        },
        "id": "ZriiXaYrN2TN",
        "outputId": "7f729a25-6fe4-4167-d5ab-ed62eef6e451"
      },
      "execution_count": null,
      "outputs": [
        {
          "output_type": "stream",
          "name": "stdout",
          "text": [
            "0\n"
          ]
        }
      ]
    },
    {
      "cell_type": "code",
      "source": [
        "# PRINTING OUT THE TOP 10 MOVIES BASED ON WORLDWIDE COLLECTIONS\n",
        "\n",
        "sns.barplot(x='World Sales',y='Title',data = df.head(10),palette='magma')\n",
        "plt.ylabel('Movie Name')\n",
        "plt.xlabel('Collection (Dollars)')\n",
        "plt.title('Top 10 Movies')\n",
        "plt.xticks([0,2500000000,2000000000,1500000000,1000000000,500000000], ['0',\"2.5B\",'2B','1.5B','1B','50M'])\n",
        "plt.show()"
      ],
      "metadata": {
        "colab": {
          "base_uri": "https://localhost:8080/",
          "height": 295
        },
        "id": "tcvUCHO8Ovjd",
        "outputId": "9d0e724d-1791-4df5-e24b-b20044356555"
      },
      "execution_count": null,
      "outputs": [
        {
          "output_type": "display_data",
          "data": {
            "text/plain": [
              "<Figure size 432x288 with 1 Axes>"
            ],
            "image/png": "[encoded data removed]"
          },
          "metadata": {
            "needs_background": "light"
          }
        }
      ]
    },
    {
      "cell_type": "code",
      "source": [
        "# Taking words from titles such as \"2013\" and appending them to the release year columns\n",
        "\n",
        "import re\n",
        "def rm_year(val):\n",
        "  if re.search('[(0-9)]{6}' ,val):  # regex for words such as \"(2001)\"\n",
        "    pos = re.search('[(0-9)]{6}' ,val).start()  \n",
        "    return val[pos+1:-1]\n",
        "\n",
        "df['Release Year'] = df['Title'].apply(rm_year)"
      ],
      "metadata": {
        "id": "KCsxO9nCNEr7"
      },
      "execution_count": null,
      "outputs": []
    },
    {
      "cell_type": "code",
      "source": [
        "df.head(2)"
      ],
      "metadata": {
        "colab": {
          "base_uri": "https://localhost:8080/",
          "height": 243
        },
        "id": "D9wgqzbfPldZ",
        "outputId": "24156e0d-b3c8-4fe3-8bc0-c452e2be3516"
      },
      "execution_count": null,
      "outputs": [
        {
          "output_type": "execute_result",
          "data": {
            "text/plain": [
              "   Unnamed: 0                                              Title  \\\n",
              "0           0  Star Wars: Episode VII - The Force Awakens (2015)   \n",
              "1           1                           Avengers: Endgame (2019)   \n",
              "\n",
              "                           Distributor       Release Date  Domestic Sales  \\\n",
              "0  Walt Disney Studios Motion Pictures  December 16, 2015       936662225   \n",
              "1  Walt Disney Studios Motion Pictures     April 24, 2019       858373000   \n",
              "\n",
              "   International Sales  World Sales  \\\n",
              "0           1132859475   2069521700   \n",
              "1           1939128328   2797501328   \n",
              "\n",
              "                                        Genre Movie Runtime License  \\\n",
              "0           ['Action', 'Adventure', 'Sci-Fi']   2 hr 18 min   PG-13   \n",
              "1  ['Action', 'Adventure', 'Drama', 'Sci-Fi']    3 hr 1 min   PG-13   \n",
              "\n",
              "  Release Year  \n",
              "0         2015  \n",
              "1         2019  "
            ],
            "text/html": [
              "\n",
              "  <div id=\"df-43910f39-7c49-478c-a783-583d46b3560b\">\n",
              "    <div class=\"colab-df-container\">\n",
              "      <div>\n",
              "<style scoped>\n",
              "    .dataframe tbody tr th:only-of-type {\n",
              "        vertical-align: middle;\n",
              "    }\n",
              "\n",
              "    .dataframe tbody tr th {\n",
              "        vertical-align: top;\n",
              "    }\n",
              "\n",
              "    .dataframe thead th {\n",
              "        text-align: right;\n",
              "    }\n",
              "</style>\n",
              "<table border=\"1\" class=\"dataframe\">\n",
              "  <thead>\n",
              "    <tr style=\"text-align: right;\">\n",
              "      <th></th>\n",
              "      <th>Unnamed: 0</th>\n",
              "      <th>Title</th>\n",
              "      <th>Distributor</th>\n",
              "      <th>Release Date</th>\n",
              "      <th>Domestic Sales</th>\n",
              "      <th>International Sales</th>\n",
              "      <th>World Sales</th>\n",
              "      <th>Genre</th>\n",
              "      <th>Movie Runtime</th>\n",
              "      <th>License</th>\n",
              "      <th>Release Year</th>\n",
              "    </tr>\n",
              "  </thead>\n",
              "  <tbody>\n",
              "    <tr>\n",
              "      <th>0</th>\n",
              "      <td>0</td>\n",
              "      <td>Star Wars: Episode VII - The Force Awakens (2015)</td>\n",
              "      <td>Walt Disney Studios Motion Pictures</td>\n",
              "      <td>December 16, 2015</td>\n",
              "      <td>936662225</td>\n",
              "      <td>1132859475</td>\n",
              "      <td>2069521700</td>\n",
              "      <td>['Action', 'Adventure', 'Sci-Fi']</td>\n",
              "      <td>2 hr 18 min</td>\n",
              "      <td>PG-13</td>\n",
              "      <td>2015</td>\n",
              "    </tr>\n",
              "    <tr>\n",
              "      <th>1</th>\n",
              "      <td>1</td>\n",
              "      <td>Avengers: Endgame (2019)</td>\n",
              "      <td>Walt Disney Studios Motion Pictures</td>\n",
              "      <td>April 24, 2019</td>\n",
              "      <td>858373000</td>\n",
              "      <td>1939128328</td>\n",
              "      <td>2797501328</td>\n",
              "      <td>['Action', 'Adventure', 'Drama', 'Sci-Fi']</td>\n",
              "      <td>3 hr 1 min</td>\n",
              "      <td>PG-13</td>\n",
              "      <td>2019</td>\n",
              "    </tr>\n",
              "  </tbody>\n",
              "</table>\n",
              "</div>\n",
              "      <button class=\"colab-df-convert\" onclick=\"convertToInteractive('df-43910f39-7c49-478c-a783-583d46b3560b')\"\n",
              "              title=\"Convert this dataframe to an interactive table.\"\n",
              "              style=\"display:none;\">\n",
              "        \n",
              "  <svg xmlns=\"http://www.w3.org/2000/svg\" height=\"24px\"viewBox=\"0 0 24 24\"\n",
              "       width=\"24px\">\n",
              "    <path d=\"M0 0h24v24H0V0z\" fill=\"none\"/>\n",
              "    <path d=\"M18.56 5.44l.94 2.06.94-2.06 2.06-.94-2.06-.94-.94-2.06-.94 2.06-2.06.94zm-11 1L8.5 8.5l.94-2.06 2.06-.94-2.06-.94L8.5 2.5l-.94 2.06-2.06.94zm10 10l.94 2.06.94-2.06 2.06-.94-2.06-.94-.94-2.06-.94 2.06-2.06.94z\"/><path d=\"M17.41 7.96l-1.37-1.37c-.4-.4-.92-.59-1.43-.59-.52 0-1.04.2-1.43.59L10.3 9.45l-7.72 7.72c-.78.78-.78 2.05 0 2.83L4 21.41c.39.39.9.59 1.41.59.51 0 1.02-.2 1.41-.59l7.78-7.78 2.81-2.81c.8-.78.8-2.07 0-2.86zM5.41 20L4 18.59l7.72-7.72 1.47 1.35L5.41 20z\"/>\n",
              "  </svg>\n",
              "      </button>\n",
              "      \n",
              "  <style>\n",
              "    .colab-df-container {\n",
              "      display:flex;\n",
              "      flex-wrap:wrap;\n",
              "      gap: 12px;\n",
              "    }\n",
              "\n",
              "    .colab-df-convert {\n",
              "      background-color: #E8F0FE;\n",
              "      border: none;\n",
              "      border-radius: 50%;\n",
              "      cursor: pointer;\n",
              "      display: none;\n",
              "      fill: #1967D2;\n",
              "      height: 32px;\n",
              "      padding: 0 0 0 0;\n",
              "      width: 32px;\n",
              "    }\n",
              "\n",
              "    .colab-df-convert:hover {\n",
              "      background-color: #E2EBFA;\n",
              "      box-shadow: 0px 1px 2px rgba(60, 64, 67, 0.3), 0px 1px 3px 1px rgba(60, 64, 67, 0.15);\n",
              "      fill: #174EA6;\n",
              "    }\n",
              "\n",
              "    [theme=dark] .colab-df-convert {\n",
              "      background-color: #3B4455;\n",
              "      fill: #D2E3FC;\n",
              "    }\n",
              "\n",
              "    [theme=dark] .colab-df-convert:hover {\n",
              "      background-color: #434B5C;\n",
              "      box-shadow: 0px 1px 3px 1px rgba(0, 0, 0, 0.15);\n",
              "      filter: drop-shadow(0px 1px 2px rgba(0, 0, 0, 0.3));\n",
              "      fill: #FFFFFF;\n",
              "    }\n",
              "  </style>\n",
              "\n",
              "      <script>\n",
              "        const buttonEl =\n",
              "          document.querySelector('#df-43910f39-7c49-478c-a783-583d46b3560b button.colab-df-convert');\n",
              "        buttonEl.style.display =\n",
              "          google.colab.kernel.accessAllowed ? 'block' : 'none';\n",
              "\n",
              "        async function convertToInteractive(key) {\n",
              "          const element = document.querySelector('#df-43910f39-7c49-478c-a783-583d46b3560b');\n",
              "          const dataTable =\n",
              "            await google.colab.kernel.invokeFunction('convertToInteractive',\n",
              "                                                     [key], {});\n",
              "          if (!dataTable) return;\n",
              "\n",
              "          const docLinkHtml = 'Like what you see? Visit the ' +\n",
              "            '<a target=\"_blank\" href=https://colab.research.google.com/notebooks/data_table.ipynb>data table notebook</a>'\n",
              "            + ' to learn more about interactive tables.';\n",
              "          element.innerHTML = '';\n",
              "          dataTable['output_type'] = 'display_data';\n",
              "          await google.colab.output.renderOutput(dataTable, element);\n",
              "          const docLink = document.createElement('div');\n",
              "          docLink.innerHTML = docLinkHtml;\n",
              "          element.appendChild(docLink);\n",
              "        }\n",
              "      </script>\n",
              "    </div>\n",
              "  </div>\n",
              "  "
            ]
          },
          "metadata": {},
          "execution_count": 11
        }
      ]
    },
    {
      "cell_type": "code",
      "source": [
        "#Calculating the amount of money collected based on the year.\n",
        "\n",
        "domestic_sales = df.groupby('Release Year')['Domestic Sales'].sum()\n",
        "International_sales = df.groupby('Release Year')['International Sales'].sum()\n",
        "world_sales = df.groupby('Release Year')['World Sales'].sum()\n",
        "\n",
        "#Creating New DataFrames for Every Sale\n",
        "\n",
        "domestic_sales = pd.DataFrame(list(domestic_sales.items()),columns = ['Year','Sale'])\n",
        "International_sales = pd.DataFrame(list(International_sales.items()),columns = ['Year','Sale'])\n",
        "world_sales = pd.DataFrame(list(world_sales.items()),columns = ['Year','Sale'])"
      ],
      "metadata": {
        "id": "WxBBBPDjOTTn"
      },
      "execution_count": null,
      "outputs": []
    },
    {
      "cell_type": "code",
      "source": [
        "plt.style.use('ggplot')"
      ],
      "metadata": {
        "id": "2Zu3fW92OYBU"
      },
      "execution_count": null,
      "outputs": []
    },
    {
      "cell_type": "code",
      "source": [
        "#Visualizing the total cash collected for each year and sale\n",
        "\n",
        "plt.figure(figsize=(11, 5))\n",
        "plt.plot(domestic_sales['Year'],domestic_sales['Sale'],color = '#00ff15',linestyle = '--',label='Domestic')\n",
        "plt.plot(domestic_sales['Year'],Inte=rnational_sales['Sale'],color = '#ff0033',linestyle = '--',label='International')\n",
        "plt.plot(domestic_sales['Year'],world_sales['Sale'],color = '#00c3ff',linestyle = '--',label='World')\n",
        "plt.xticks(rotation=90)\n",
        "plt.xlabel('Year')\n",
        "plt.ylabel('Sales (In $)')\n",
        "plt.ticklabel_format(style='plain', axis='y')\n",
        "plt.title('Sales in Each Year')\n",
        "plt.legend()\n",
        "plt.show()"
      ],
      "metadata": {
        "colab": {
          "base_uri": "https://localhost:8080/",
          "height": 369
        },
        "id": "mCdT65TeOlqK",
        "outputId": "7ea2a171-5977-4568-dca8-2f19ad00683c"
      },
      "execution_count": null,
      "outputs": [
        {
          "output_type": "display_data",
          "data": {
            "text/plain": [
              "<Figure size 792x360 with 1 Axes>"
            ],
            "image/png": "[encoded data removed]"
          },
          "metadata": {}
        }
      ]
    },
    {
      "cell_type": "code",
      "source": [
        "#The number of times distributors have appeared in the top 100 with respect to domestic sales.\n",
        "df2 = df.head(100)\n",
        "df2 = df2['Distributor'].value_counts()\n",
        "df2 = df2.reset_index()\n",
        "\n",
        "#I eliminated some words from this titles because it appears to be too long and takes up too much room.\n",
        "\n",
        "df2.replace({'Walt Disney Studios Motion Pictures':'Walt Disney',\n",
        "                   'Sony Pictures Entertainment (SPE)':'Sony Pictures'},inplace = True)\n",
        "\n",
        "sns.barplot(x=df2['index'],y=df2['Distributor'],data = df2)\n",
        "plt.xticks(rotation=90)\n",
        "plt.ylabel('Counts')\n",
        "plt.xlabel('Distributors')\n",
        "plt.title('The number of times distributors have appeared in the top 100.')\n",
        "plt.show()\n"
      ],
      "metadata": {
        "colab": {
          "base_uri": "https://localhost:8080/",
          "height": 415
        },
        "id": "_HMh42LIT7u4",
        "outputId": "56cb18ad-cda3-49d8-8f2d-a7ecb5424fc0"
      },
      "execution_count": null,
      "outputs": [
        {
          "output_type": "display_data",
          "data": {
            "text/plain": [
              "<Figure size 432x288 with 1 Axes>"
            ],
            "image/png": "[encoded data removed]"
          },
          "metadata": {}
        }
      ]
    },
    {
      "cell_type": "code",
      "source": [
        "#changing phrases like \"2 hours 30 minutes\" to \"2:30\"\n",
        "\n",
        "def rm_letters(val):\n",
        "  s = str()\n",
        "  for letter in val:\n",
        "    if letter in ['0','1','2','3','4','5','6','7','8','9']:\n",
        "      s = s+letter\n",
        "  if len(str(s)) == 1:  # For words such as \"3 hrs\"\n",
        "    s = s+'00'\n",
        "  elif len(str(s)) == 2: # For words such as \"3 hrs 9 minutes\"\n",
        "    s = s[0]+'0'+s[1]\n",
        "  return int(s)\n",
        "  \n",
        "df['Movie Runtime'] = df['Movie Runtime'].apply(rm_letters)\n",
        "df['Movie Runtime']"
      ],
      "metadata": {
        "colab": {
          "base_uri": "https://localhost:8080/"
        },
        "id": "577EhKCjUm6p",
        "outputId": "585ba46c-9a1c-4818-d99e-738803e3589c"
      },
      "execution_count": null,
      "outputs": [
        {
          "output_type": "execute_result",
          "data": {
            "text/plain": [
              "0      218\n",
              "1      301\n",
              "2      242\n",
              "3      214\n",
              "4      229\n",
              "      ... \n",
              "913    203\n",
              "914    122\n",
              "915    213\n",
              "916    138\n",
              "917    142\n",
              "Name: Movie Runtime, Length: 918, dtype: int64"
            ]
          },
          "metadata": {},
          "execution_count": 16
        }
      ]
    },
    {
      "cell_type": "code",
      "source": [
        "#Sorting the values based on Movie Runtime\n",
        "\n",
        "df3 = df['Movie Runtime']\n",
        "df3 = df3.reset_index()\n",
        "df3.sort_values(by='Movie Runtime',ascending = True,inplace = True)\n",
        "df3['Movie Runtime'].unique()"
      ],
      "metadata": {
        "colab": {
          "base_uri": "https://localhost:8080/"
        },
        "id": "Cxx9jkVwU4tL",
        "outputId": "789d0b38-95b0-407e-8837-6f76c83be959"
      },
      "execution_count": null,
      "outputs": [
        {
          "output_type": "execute_result",
          "data": {
            "text/plain": [
              "array([116, 117, 118, 119, 121, 122, 123, 124, 125, 126, 127, 128, 129,\n",
              "       130, 131, 132, 133, 134, 135, 136, 137, 138, 139, 140, 141, 142,\n",
              "       143, 144, 145, 146, 147, 148, 149, 150, 151, 152, 153, 154, 155,\n",
              "       156, 157, 158, 159, 200, 201, 202, 203, 204, 205, 206, 207, 208,\n",
              "       209, 210, 211, 212, 213, 214, 215, 216, 217, 218, 219, 220, 221,\n",
              "       222, 223, 224, 225, 226, 227, 228, 229, 230, 231, 232, 233, 234,\n",
              "       235, 236, 237, 238, 241, 242, 243, 244, 245, 246, 249, 250, 255,\n",
              "       258, 259, 300, 301, 303, 307, 309, 314, 315, 321])"
            ]
          },
          "metadata": {},
          "execution_count": 17
        }
      ]
    },
    {
      "cell_type": "code",
      "source": [
        "List = []\n",
        "def sep_values(val):\n",
        "  x = str()\n",
        "  b1 = True\n",
        "  for i in val:\n",
        "    if i.isalpha():\n",
        "      x += i\n",
        "    elif i == \"'\" and b1 == True:\n",
        "      b1 = False\n",
        "    elif i == \"'\" and b1 == False:\n",
        "      b1 = True\n",
        "      List.append(x)\n",
        "      x = str()\n",
        "      \n",
        "df['Genre'].apply(sep_values)\n",
        "print(List[:10])"
      ],
      "metadata": {
        "colab": {
          "base_uri": "https://localhost:8080/"
        },
        "id": "6chiUtJ5pAcM",
        "outputId": "a79f536d-0cea-41ff-bde0-9d510a901f1f"
      },
      "execution_count": null,
      "outputs": [
        {
          "output_type": "stream",
          "name": "stdout",
          "text": [
            "['Action', 'Adventure', 'SciFi', 'Action', 'Adventure', 'Drama', 'SciFi', 'Action', 'Adventure', 'Fantasy']\n"
          ]
        }
      ]
    },
    {
      "cell_type": "code",
      "source": [
        "from collections import Counter\n",
        "Freq = Counter(List)\n",
        "\n",
        "GenreFreq = pd.DataFrame(list(Freq.items()),columns = ['Genre','Count'])\n",
        "GenreFreq.sort_values(by='Count', ascending = False,inplace = True)"
      ],
      "metadata": {
        "id": "EAZwyA6cVd6m"
      },
      "execution_count": null,
      "outputs": []
    },
    {
      "cell_type": "code",
      "source": [
        "sns.barplot(x=GenreFreq['Genre'],y=GenreFreq['Count'],data = GenreFreq)\n",
        "plt.xticks(rotation=90)\n",
        "plt.title('Frequency of movie Genre')\n",
        "plt.show()"
      ],
      "metadata": {
        "colab": {
          "base_uri": "https://localhost:8080/",
          "height": 357
        },
        "id": "Sl2188V0VoOh",
        "outputId": "3e9541be-5575-4fc7-9673-b8d773a03c2c"
      },
      "execution_count": null,
      "outputs": [
        {
          "output_type": "display_data",
          "data": {
            "text/plain": [
              "<Figure size 432x288 with 1 Axes>"
            ],
            "image/png": "[encoded data removed]"
          },
          "metadata": {}
        }
      ]
    },
    {
      "cell_type": "markdown",
      "source": [
        ""
      ],
      "metadata": {
        "id": "XYkvrBuhdHAl"
      }
    },
    {
      "cell_type": "code",
      "source": [
        "\n"
      ],
      "metadata": {
        "id": "nfGGu4qDv-3S"
      },
      "execution_count": null,
      "outputs": []
    }
  ]
}